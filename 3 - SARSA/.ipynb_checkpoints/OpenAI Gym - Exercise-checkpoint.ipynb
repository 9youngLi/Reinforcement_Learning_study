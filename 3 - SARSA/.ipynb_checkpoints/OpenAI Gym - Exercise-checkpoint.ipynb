{
 "cells": [
  {
   "cell_type": "code",
   "execution_count": 1,
   "metadata": {
    "scrolled": true
   },
   "outputs": [],
   "source": [
    "import gym\n",
    "import numpy as np\n",
    "import matplotlib.pyplot as plt\n",
    "%matplotlib tk"
   ]
  },
  {
   "cell_type": "code",
   "execution_count": 28,
   "metadata": {},
   "outputs": [],
   "source": [
    "class GridEnv(gym.Env):\n",
    "    def __init__(self):\n",
    "        # Some initialization for Env\n",
    "        self.map_size = (3,3)\n",
    "        self.agent_pos = [0,2]\n",
    "        self.obstacle = (1,1), (1,2)\n",
    "        self.goal = (2,2)\n",
    "        self.action_space = gym.spaces.Discrete(4)\n",
    "        self.obs_space = gym.spaces.Discrete(3)\n",
    "\n",
    "\n",
    "    def step(self, action):\n",
    "        if action == 0: #Left\n",
    "            self.agent_pos[0] += -1\n",
    "        elif action == 1: #Right\n",
    "            self.agent_pos[0] += +1\n",
    "        elif action == 2: #Up\n",
    "            self.agent_pos[1] += -1\n",
    "        elif action == 3: #Down\n",
    "            self.agent_pos[1] += +1\n",
    "        else:\n",
    "            raise Exception(\"Action is not defined\")\n",
    "            \n",
    "        \n",
    "        return self.obs(), self.get_reward(), self._is_done()\n",
    "    \n",
    "    def obs(self):\n",
    "        if self.agent_pos in self.obstacle:\n",
    "            print(\"agens is on obstacle\")\n",
    "            return 0\n",
    "        \n",
    "        elif self.agent_pos == self.goal:\n",
    "            print(\"Goal in\")\n",
    "            return 1\n",
    "        \n",
    "        else:    \n",
    "            return 2\n",
    "    \n",
    "    def _is_done(self):\n",
    "        if self.agent_pos[0] < 0 or self.agent_pos[1] < 0 or self.agent_pos[0] > 2 or self.agent_pos[1] > 2:\n",
    "            print(\"Out of map\")\n",
    "            return True\n",
    "        elif self.agent_pos == self.goal:\n",
    "            return True\n",
    "        else:\n",
    "            return False\n",
    "            \n",
    "    def reset(self):\n",
    "        self.world = np.zeros(self.map_size)\n",
    "        \n",
    "        self.world[self.obstacle[0]] = 2\n",
    "        self.world[self.obstacle[1]] = 2\n",
    "        self.agent_pos = [0,2]\n",
    "\n",
    "        return self.obs()\n",
    "\n",
    "    def render(self):\n",
    "        # Code for visualization\n",
    "        plt.ion()\n",
    "        \n",
    "        self.world[self.agent_pos[0], self.agent_pos[1]] = -1\n",
    "        self.world[self.goal[0],self.goal[1]] = 3\n",
    "        plt.matshow(self.world,fignum=0)\n",
    "        plt.draw()\n",
    "        plt.pause(0.5)\n",
    "        self.world[self.agent_pos[0], self.agent_pos[1]] = 0\n",
    "        self.world[self.obstacle[0]] = 2\n",
    "        self.world[self.obstacle[1]] = 2\n",
    "        \n",
    "        \n",
    "    def get_reward(self):\n",
    "        if self.agent_pos in self.obstacle:\n",
    "            return -1\n",
    "        elif self.agent_pos == self.goal:\n",
    "            return +1\n",
    "        else:\n",
    "            return 0\n",
    "        \n",
    "    \n",
    "    def close(self):\n",
    "        # Clear env\n",
    "        pass"
   ]
  },
  {
   "cell_type": "code",
   "execution_count": 29,
   "metadata": {},
   "outputs": [],
   "source": [
    "env = GridEnv()"
   ]
  },
  {
   "cell_type": "code",
   "execution_count": 30,
   "metadata": {},
   "outputs": [
    {
     "data": {
      "text/plain": [
       "2"
      ]
     },
     "execution_count": 30,
     "metadata": {},
     "output_type": "execute_result"
    }
   ],
   "source": [
    "env.goal[0]"
   ]
  },
  {
   "cell_type": "code",
   "execution_count": null,
   "metadata": {
    "scrolled": false
   },
   "outputs": [
    {
     "name": "stdout",
     "output_type": "stream",
     "text": [
      "Out of map\n",
      "DONE\n",
      "Out of map\n",
      "DONE\n"
     ]
    }
   ],
   "source": [
    "for i in range(10):\n",
    "    obs = env.reset()\n",
    "    for j in range(100):\n",
    "        env.render()\n",
    "        action = np.random.randint(3)\n",
    "        obs, reward, is_done = env.step(action)\n",
    "        #print(\"POSITION : \",env.agent_pos)\n",
    "        if is_done:\n",
    "            print(\"DONE\")\n",
    "            break;\n",
    "env.close()\n",
    "    "
   ]
  },
  {
   "cell_type": "code",
   "execution_count": 5,
   "metadata": {},
   "outputs": [
    {
     "data": {
      "text/plain": [
       "[0, -1]"
      ]
     },
     "execution_count": 5,
     "metadata": {},
     "output_type": "execute_result"
    }
   ],
   "source": [
    "env.agent_pos"
   ]
  },
  {
   "cell_type": "code",
   "execution_count": 6,
   "metadata": {},
   "outputs": [],
   "source": [
    "a = [1,1]"
   ]
  },
  {
   "cell_type": "code",
   "execution_count": 7,
   "metadata": {},
   "outputs": [
    {
     "data": {
      "text/plain": [
       "[1, 1]"
      ]
     },
     "execution_count": 7,
     "metadata": {},
     "output_type": "execute_result"
    }
   ],
   "source": [
    "a"
   ]
  },
  {
   "cell_type": "code",
   "execution_count": null,
   "metadata": {},
   "outputs": [],
   "source": []
  }
 ],
 "metadata": {
  "kernelspec": {
   "display_name": "Python 3",
   "language": "python",
   "name": "python3"
  },
  "language_info": {
   "codemirror_mode": {
    "name": "ipython",
    "version": 3
   },
   "file_extension": ".py",
   "mimetype": "text/x-python",
   "name": "python",
   "nbconvert_exporter": "python",
   "pygments_lexer": "ipython3",
   "version": "3.8.8"
  }
 },
 "nbformat": 4,
 "nbformat_minor": 4
}
