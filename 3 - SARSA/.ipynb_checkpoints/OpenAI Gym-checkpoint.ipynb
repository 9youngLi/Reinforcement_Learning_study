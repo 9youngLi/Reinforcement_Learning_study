{
 "cells": [
  {
   "cell_type": "code",
   "execution_count": 1,
   "metadata": {},
   "outputs": [],
   "source": [
    "import gym"
   ]
  },
  {
   "cell_type": "code",
   "execution_count": 3,
   "metadata": {},
   "outputs": [],
   "source": [
    "class GridEnv(gym.Env):\n",
    "    def __init__(self):\n",
    "        # Some initialization for Env\n",
    "        self.map_size = (5,5)\n",
    "        self.agent_pos = [0,0]\n",
    "        self.obstacle = (1,1), (1,2)\n",
    "        self.goal = (5,5)\n",
    "        self.action_space = gym.spaces.Discrete(4)\n",
    "        self.obs_space = gym.spaces.Discrete(3)\n",
    "\n",
    "\n",
    "    def step(self, action):\n",
    "        if action == 0: #Left\n",
    "            self.agent_pos[0] += -1\n",
    "        elif action == 1: #Right\n",
    "            self.agent_pos[0] += +1\n",
    "        elif action == 2: #Up\n",
    "            self.action_pos[1] += -1\n",
    "        elif action == 3: #Down\n",
    "            self.action_pos[1] += +1\n",
    "        else:\n",
    "            raise Exception(\"Action is not defined\")\n",
    "            \n",
    "        \n",
    "        return self.obs(), self.reward(), self._is_done\n",
    "    \n",
    "    def obs(self):\n",
    "        if self.agent_pos in self.obstacle:\n",
    "            print(\"agens is on obstacle\")\n",
    "            return 0\n",
    "        \n",
    "        elif self.agent_pos == self.goal:\n",
    "            print(\"Goal in\")\n",
    "            return 1\n",
    "        \n",
    "        else:\n",
    "            \n",
    "            return 2\n",
    "            \n",
    "    def reset(self):\n",
    "        obs = 0\n",
    "        return obs\n",
    "\n",
    "    def render(self):\n",
    "        # Code for visualization\n",
    "        pass\n",
    "\n",
    "    def close(self):\n",
    "        # Clear env\n",
    "        pass"
   ]
  }
 ],
 "metadata": {
  "kernelspec": {
   "display_name": "Python 3",
   "language": "python",
   "name": "python3"
  },
  "language_info": {
   "codemirror_mode": {
    "name": "ipython",
    "version": 3
   },
   "file_extension": ".py",
   "mimetype": "text/x-python",
   "name": "python",
   "nbconvert_exporter": "python",
   "pygments_lexer": "ipython3",
   "version": "3.8.8"
  }
 },
 "nbformat": 4,
 "nbformat_minor": 4
}
